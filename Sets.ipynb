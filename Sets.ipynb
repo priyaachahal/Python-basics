{
  "nbformat": 4,
  "nbformat_minor": 0,
  "metadata": {
    "colab": {
      "name": "Untitled28.ipynb",
      "provenance": []
    },
    "kernelspec": {
      "name": "python3",
      "display_name": "Python 3"
    }
  },
  "cells": [
    {
      "cell_type": "code",
      "metadata": {
        "id": "EpRZhTeJX1c6",
        "colab_type": "code",
        "colab": {
          "base_uri": "https://localhost:8080/",
          "height": 85
        },
        "outputId": "3a752c0c-9e62-4aa1-f8d2-64a26e9267da"
      },
      "source": [
        "set1 = {'hello' , 'am' , 'appple'}\n",
        "set2 = {'am' ,  'you' , 'hello'}\n",
        "set3 = set1 & set2      #represents the intersection of 2 circles in Venn diagram\n",
        "print(set3)\n",
        "diff = set1.difference(set2)\n",
        "print(diff)     #prints the different element of set1 from set 2 & excluding intersection elements\n",
        "set4 = set1.union(set2)   #contains all elements from set1 & set2 with no duplicates\n",
        "print(set4)\n",
        "set5 = {'am' , 'hello'}\n",
        "#to check if a set is a subset of another set\n",
        "set5.issubset(set2)  #outputs True"
      ],
      "execution_count": 26,
      "outputs": [
        {
          "output_type": "stream",
          "text": [
            "{'am', 'hello'}\n",
            "{'appple'}\n",
            "{'appple', 'you', 'am', 'hello'}\n"
          ],
          "name": "stdout"
        },
        {
          "output_type": "execute_result",
          "data": {
            "text/plain": [
              "True"
            ]
          },
          "metadata": {
            "tags": []
          },
          "execution_count": 26
        }
      ]
    }
  ]
}